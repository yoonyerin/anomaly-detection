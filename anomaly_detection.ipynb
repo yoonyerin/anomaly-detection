{
  "nbformat": 4,
  "nbformat_minor": 0,
  "metadata": {
    "colab": {
      "provenance": [],
      "collapsed_sections": [
        "6o41-VhmB0jz",
        "5N913nGu-vUW",
        "rW5Tz-oeB9XO",
        "ZUZk_K6dk72o",
        "RBMRufNXDBac",
        "TA2uoS5tDEWr",
        "D0sdSL8JDHrw",
        "uNEhzVsMky90"
      ],
      "include_colab_link": true
    },
    "kernelspec": {
      "name": "python3",
      "display_name": "Python 3"
    },
    "language_info": {
      "name": "python"
    },
    "accelerator": "GPU"
  },
  "cells": [
    {
      "cell_type": "markdown",
      "metadata": {
        "id": "view-in-github",
        "colab_type": "text"
      },
      "source": [
        "<a href=\"https://colab.research.google.com/github/yoonyerin/anomaly-detection/blob/main/anomaly_detection.ipynb\" target=\"_parent\"><img src=\"https://colab.research.google.com/assets/colab-badge.svg\" alt=\"Open In Colab\"/></a>"
      ]
    },
    {
      "cell_type": "markdown",
      "metadata": {
        "id": "fc95gonpjwru"
      },
      "source": [
        "#### *Mounting my Google Drive with the Final Project*"
      ]
    },
    {
      "cell_type": "code",
      "metadata": {
        "colab": {
          "base_uri": "https://localhost:8080/"
        },
        "id": "2YSWy0LudPjh",
        "outputId": "aff01706-039d-45e6-cdb0-6292c79e0fc2"
      },
      "source": [
        "from google.colab import drive\n",
        "\n",
        "drive.mount('/content/drive')"
      ],
      "execution_count": null,
      "outputs": [
        {
          "output_type": "stream",
          "name": "stdout",
          "text": [
            "Mounted at /content/drive\n"
          ]
        }
      ]
    },
    {
      "cell_type": "markdown",
      "metadata": {
        "id": "ceR3HfyAgZKa"
      },
      "source": [
        "## **Task1**"
      ]
    },
    {
      "cell_type": "markdown",
      "metadata": {
        "id": "cti-2M1zckjG"
      },
      "source": [
        "Implement data load function for fixed length (10 pts)"
      ]
    },
    {
      "cell_type": "markdown",
      "metadata": {
        "id": "YQVFb5MdBoFZ"
      },
      "source": [
        "### *csv fixed length data preprocessing*"
      ]
    },
    {
      "cell_type": "code",
      "metadata": {
        "id": "y0tMn_DJDj_c"
      },
      "source": [
        "#filename=\"/content/drive/MyDrive/Colab bigdatasecurity/data_fixedlength/train.csv\""
      ],
      "execution_count": null,
      "outputs": []
    },
    {
      "cell_type": "code",
      "metadata": {
        "id": "7kKPgSgs3QW7"
      },
      "source": [
        "def data_load_fixed(filename):\n",
        "  import pandas as pd       \n",
        "  data = pd.read_csv(filename)\n",
        "  datas = pd.DataFrame(data) \n",
        "  datas.columns = list(data.columns)\n",
        "  datas['class'] = data['class']\n",
        "  data_drop = datas.drop('class',axis=1)\n",
        "  X=data_drop\n",
        "  Y=datas['class']\n",
        "  return datas, X, Y"
      ],
      "execution_count": null,
      "outputs": []
    },
    {
      "cell_type": "markdown",
      "metadata": {
        "id": "6o41-VhmB0jz"
      },
      "source": [
        "### *json fixed length data preprocessing*"
      ]
    },
    {
      "cell_type": "markdown",
      "metadata": {
        "id": "hwkgAtRsA_r8"
      },
      "source": [
        "csv 파일을 json 파일로 전환 후 전처리 -> 속도 향상"
      ]
    },
    {
      "cell_type": "code",
      "metadata": {
        "id": "WyphVJZt9Tkr"
      },
      "source": [
        "#jfilename=\"/content/drive/MyDrive/Colab bigdatasecurity/data_fixedlength/train.json\"#유진\n",
        "filename=\"/content/drive/MyDrive/Colab Notebooks/bigdata/train.csv\"#예린"
      ],
      "execution_count": null,
      "outputs": []
    },
    {
      "cell_type": "code",
      "metadata": {
        "id": "HT4kDoWk_1wy"
      },
      "source": [
        "# 하나의 파일에 대해 csv -> json\n",
        "def csv_to_json_1(foldername, filename):\n",
        "  import glob,os\n",
        "  import csv\n",
        "  import json\n",
        "  \n",
        "  jsonArray=[]\n",
        "  get_name = filename.split(\"/\")[-1].replace(\".csv\",\".json\")\n",
        "  with open(filename, 'r', newline='') as csvfile:\n",
        "    reader = csv.DictReader(csvfile, delimiter=',')\n",
        "    for row in reader :\n",
        "      jsonArray.append(row)\n",
        "\n",
        "  saving_path = os.path.join(foldername,get_name)\n",
        "\n",
        "  with open(saving_path , 'w') as jsonfile:       \n",
        "    jsonString = json.dumps(jsonArray)\n",
        "    jsonfile.write(jsonString)\n",
        "\n",
        "# convert 완료\n",
        "# csv_to_json_1('/content/drive/MyDrive/Colab bigdatasecurity/data_fixedlength/', filename)"
      ],
      "execution_count": null,
      "outputs": []
    },
    {
      "cell_type": "code",
      "metadata": {
        "id": "l00lI7QmwnKo"
      },
      "source": [
        "# json fixed data 전처리\n",
        "def jdata_load_fixed(jfilename):\n",
        "  import pandas as pd       # pandas DataFrame : 2차원으로 변환\n",
        "  data = pd.read_json(jfilename)\n",
        "  data.columns = list(data.columns)\n",
        "  data_drop = data.drop('class',axis=1)\n",
        "  X=data_drop\n",
        "  Y=data['class']\n",
        "  return data, X, Y"
      ],
      "execution_count": null,
      "outputs": []
    },
    {
      "cell_type": "markdown",
      "metadata": {
        "id": "ztBaY2LHgbRT"
      },
      "source": [
        "## **Task2**"
      ]
    },
    {
      "cell_type": "markdown",
      "metadata": {
        "id": "_ePFNHDCcsV6"
      },
      "source": [
        "Implement data load function for variable length (25 pts)"
      ]
    },
    {
      "cell_type": "markdown",
      "metadata": {
        "id": "5N913nGu-vUW"
      },
      "source": [
        "### *csv variable length data preprocessing*"
      ]
    },
    {
      "cell_type": "code",
      "metadata": {
        "id": "Bt5eP1czDdny"
      },
      "source": [
        "foldername=\"/content/drive/MyDrive/Colab bigdatasecurity/data\""
      ],
      "execution_count": null,
      "outputs": []
    },
    {
      "cell_type": "markdown",
      "metadata": {
        "id": "BGfVVYmy14d8"
      },
      "source": [
        "# Vaiation data를 로드하는 함수이다.\n",
        "\n",
        "## 1) OS를 이용하여 csv형태의 데이터를 로드한다. class0과 class1의 개수를 원하는 만큼 패러미터로 지정해서 불러올 수 있다.\n",
        "\n",
        "## 2) Glob을 이용하여 폴더의 모든 파일을 가져온다.\n",
        "\n",
        "## 3) Glob을 이용하여 Class 0과 Class 1의 파일을 원하는 개수 N만큼 가져온다."
      ]
    },
    {
      "cell_type": "markdown",
      "metadata": {
        "id": "rW5Tz-oeB9XO"
      },
      "source": [
        "### *json variable length data preprocessing*"
      ]
    },
    {
      "cell_type": "markdown",
      "metadata": {
        "id": "dQi-gUWKBWvQ"
      },
      "source": [
        "csv 파일을 json 파일로 전환 후 전처리 -> 속도 향상"
      ]
    },
    {
      "cell_type": "code",
      "metadata": {
        "id": "3pm890SY3Z8o"
      },
      "source": [
        "# csv file들을 모두 json 형태로 convert하기\n",
        "def csv_to_json(foldername, jfoldername):\n",
        "  import glob,os\n",
        "  import csv\n",
        "  import json\n",
        "  \n",
        "  all_files= glob.glob(foldername + \"/*.csv\")\n",
        "\n",
        "  for file in all_files :\n",
        "    jsonArray=[]\n",
        "    get_name = file.split(\"/\")[-1].replace(\".csv\",\".json\")\n",
        "    with open(file, 'r', newline='') as csvfile:\n",
        "      reader = csv.DictReader(csvfile, delimiter=',')\n",
        "      for row in reader :\n",
        "        jsonArray.append(row)\n",
        "\n",
        "    saving_path = os.path.join(jfoldername,get_name)\n",
        "\n",
        "    with open(saving_path , 'w') as jsonfile:       \n",
        "        jsonString = json.dumps(jsonArray)\n",
        "        jsonfile.write(jsonString)\n",
        "\n",
        "# csv_to_json(foldername, jfoldername)\n",
        "# jfoldername 폴더 안에 모든 파일 convert 완료"
      ],
      "execution_count": null,
      "outputs": []
    },
    {
      "cell_type": "code",
      "metadata": {
        "id": "qMQIwYsuDgIN"
      },
      "source": [
        "#Json용 폴더 경로 넣기\n",
        "jfoldername='/content/drive/MyDrive/data_json'"
      ],
      "execution_count": null,
      "outputs": []
    },
    {
      "cell_type": "code",
      "metadata": {
        "id": "jJwhwdBCSVcO"
      },
      "source": [
        "#Json으로 바꾸기\n",
        "#1) \n",
        "def variable_length_data_load_os(class_0, class_1):\n",
        "  path_dir = r'/content/drive/MyDrive/Colab Notebooks/bigdata/variable_data/data (1)/data'\n",
        "  file_style_0=r'0_'\n",
        "  file_style_1=r'1_'\n",
        "  file_list_0 = [os.path.join(path_dir, file) for file in os.listdir(path_dir) if file.startswith(file_style_0)]\n",
        "  file_list_1= [os.path.join(path_dir, file) for file in os.listdir(path_dir) if file.startswith(file_style_1)]\n",
        "  data=pd.DataFrame()\n",
        "\n",
        "  for i in range(class_0): \n",
        "    file_0=pd.read_csv(file_list_0[i])\n",
        "    file_0=pd.DataFrame(file_0)\n",
        "    list_0=[]\n",
        "    for i in range(len(file_0[0:])):\n",
        "      list_0.append(0)\n",
        "    list_0=pd.Series(list_0, name=\"class\")\n",
        "    file_0=pd.concat([file_0, list_0], axis=1)\n",
        "    data=pd.concat([data, file_0], axis=0)\n",
        "\n",
        "  for i in range(class_1):\n",
        "    file_1=pd.read_csv(file_list_1[i])\n",
        "    file_1=pd.DataFrame(file_1)\n",
        "    list_1=[]\n",
        "    for i in range(len(file_1[0:])):\n",
        "      list_1.append(1)\n",
        "    list_1=pd.Series(list_1, name=\"class\")\n",
        "    file_1=pd.concat([file_1, list_1], axis=1)\n",
        "    data=pd.concat([data, file_1], axis=0)\n",
        "  return data\n",
        "\n",
        "def data_load_all(foldername):\n",
        "  import pandas as pd\n",
        "  import glob\n",
        "  import numpy as np\n",
        "\n",
        "  all_files_0 = glob.glob(foldername + \"/0_*\")\n",
        "  all_files_1 = glob.glob(foldername + \"/1_*\")\n",
        "  all_files = [all_files_0, all_files_1]\n",
        "  filenames = np.array(all_files)\n",
        "  frames = []\n",
        "  for i in [0,1] :\n",
        "    for filename in filenames[i] :\n",
        "      data = pd.read_csv(filename)\n",
        "      datas = pd.DataFrame(data.iloc[:, 0:])\n",
        "      datas.columns = list(data.iloc[:, 0:].columns)\n",
        "      datas.insert(0, 'class', i)\n",
        "      frames.append(datas)\n",
        "  result = pd.concat(frames, ignore_index = True)\n",
        "  return result\n",
        "def data_load_var(foldername, n):\n",
        "  import pandas as pd       # pandas DataFrame : 2차원으로 변환\n",
        "  import glob\n",
        "  import numpy as np\n",
        "  \n",
        "  all_files_0 = glob.glob(foldername + \"/0_*.csv\")\n",
        "  all_files_1 = glob.glob(foldername + \"/1_*.csv\")\n",
        "  all_files = [all_files_0[0:n], all_files_1[0:n]]\n",
        "  filenames = np.array(all_files)\n",
        "  frames = []\n",
        "  for i in [0,1] :\n",
        "    for filename in filenames[i] :\n",
        "      data = pd.read_csv(filename)\n",
        "      datas = pd.DataFrame(data.iloc[:, 0:])\n",
        "      datas.columns = list(data.iloc[:, 0:].columns)\n",
        "      datas.insert(0, 'class', i)\n",
        "      frames.append(datas)\n",
        "  result = pd.concat(frames, ignore_index = True)\n",
        "  return result\n",
        "\n",
        "# data_load_all(foldername)\n",
        "# 너무 느려서 전체 데이터에 대해서는 json으로!"
      ],
      "execution_count": null,
      "outputs": []
    },
    {
      "cell_type": "code",
      "metadata": {
        "colab": {
          "base_uri": "https://localhost:8080/",
          "height": 52
        },
        "id": "Sn5XWVJG3UBC",
        "outputId": "82f2f185-aa09-4cff-dff2-1a8f4a5cae54"
      },
      "source": [
        "#OS로 바꾸기 => Json사용 함수\n",
        "import pandas as pd\n",
        "import glob\n",
        "import numpy as np\n",
        "import os\n",
        "def jdata_load_all(path_dir):    \n",
        "  file_style_0=r'0_'\n",
        "  file_style_1=r'1_'\n",
        "  file_list_0 = [os.path.join(path_dir, file) for file in os.listdir(path_dir) if file.startswith(file_style_0)]\n",
        "  file_list_1= [os.path.join(path_dir, file) for file in os.listdir(path_dir) if file.startswith(file_style_1)]\n",
        "  filenames=[file_list_0[0:100], file_list_1[0:100]]\n",
        "  data=pd.DataFrame()\n",
        "  for i in [0, 1]:\n",
        "    for file_name in filenames[i]:\n",
        "      file=pd.read_json(file_name)\n",
        "      file=pd.DataFrame(file)\n",
        "      '''\n",
        "      list_class=[]\n",
        "      list_class.append(i)\n",
        "      list_class=pd.Series(list_class, name=\"class\")\n",
        "      '''\n",
        "      file.insert(0, 'class', i)\n",
        "      data=pd.concat([data, file], axis=0)\n",
        "          \n",
        "  return data\n",
        "  \n",
        "\n",
        "'''  all_files_0 = glob.glob(foldername + \"/0_*.json\")\n",
        "  all_files_1 = glob.glob(foldername + \"/1_*.json\")\n",
        "  all_files = [all_files_0, all_files_1]\n",
        "  filenames = np.array(all_files)\n",
        "  frames = []\n",
        "  for i in [0,1] :\n",
        "    for filename in filenames[i] :\n",
        "      data = pd.read_json(filename)\n",
        "      data.columns = list(data.columns)\n",
        "      data.insert(0, 'class', i)\n",
        "      frames.append(data)\n",
        "  result = pd.concat(frames, ignore_index = True)\n",
        "  '''\n"
      ],
      "execution_count": null,
      "outputs": [
        {
          "output_type": "execute_result",
          "data": {
            "application/vnd.google.colaboratory.intrinsic+json": {
              "type": "string"
            },
            "text/plain": [
              "'  all_files_0 = glob.glob(foldername + \"/0_*.json\")\\n  all_files_1 = glob.glob(foldername + \"/1_*.json\")\\n  all_files = [all_files_0, all_files_1]\\n  filenames = np.array(all_files)\\n  frames = []\\n  for i in [0,1] :\\n    for filename in filenames[i] :\\n      data = pd.read_json(filename)\\n      data.columns = list(data.columns)\\n      data.insert(0, \\'class\\', i)\\n      frames.append(data)\\n  result = pd.concat(frames, ignore_index = True)\\n  '"
            ]
          },
          "metadata": {},
          "execution_count": 11
        }
      ]
    },
    {
      "cell_type": "markdown",
      "metadata": {
        "id": "3yjP1GjG5FDq"
      },
      "source": [
        "Case1. 100개의 파일씩 가져온다."
      ]
    },
    {
      "cell_type": "code",
      "metadata": {
        "id": "v2nszWGuuFro",
        "colab": {
          "base_uri": "https://localhost:8080/",
          "height": 313
        },
        "outputId": "8204cbd6-5905-4ffc-c895-c4a44f0f7e31"
      },
      "source": [
        "data_v = data_load_var(jfoldername, 100)"
      ],
      "execution_count": null,
      "outputs": [
        {
          "output_type": "error",
          "ename": "ValueError",
          "evalue": "ignored",
          "traceback": [
            "\u001b[0;31m---------------------------------------------------------------------------\u001b[0m",
            "\u001b[0;31mValueError\u001b[0m                                Traceback (most recent call last)",
            "\u001b[0;32m<ipython-input-12-7e9fb99c4246>\u001b[0m in \u001b[0;36m<module>\u001b[0;34m()\u001b[0m\n\u001b[0;32m----> 1\u001b[0;31m \u001b[0mdata_v\u001b[0m \u001b[0;34m=\u001b[0m \u001b[0mdata_load_var\u001b[0m\u001b[0;34m(\u001b[0m\u001b[0mjfoldername\u001b[0m\u001b[0;34m,\u001b[0m \u001b[0;36m100\u001b[0m\u001b[0;34m)\u001b[0m\u001b[0;34m\u001b[0m\u001b[0;34m\u001b[0m\u001b[0m\n\u001b[0m",
            "\u001b[0;32m<ipython-input-10-a35d335efd90>\u001b[0m in \u001b[0;36mdata_load_var\u001b[0;34m(foldername, n)\u001b[0m\n\u001b[1;32m     66\u001b[0m       \u001b[0mdatas\u001b[0m\u001b[0;34m.\u001b[0m\u001b[0minsert\u001b[0m\u001b[0;34m(\u001b[0m\u001b[0;36m0\u001b[0m\u001b[0;34m,\u001b[0m \u001b[0;34m'class'\u001b[0m\u001b[0;34m,\u001b[0m \u001b[0mi\u001b[0m\u001b[0;34m)\u001b[0m\u001b[0;34m\u001b[0m\u001b[0;34m\u001b[0m\u001b[0m\n\u001b[1;32m     67\u001b[0m       \u001b[0mframes\u001b[0m\u001b[0;34m.\u001b[0m\u001b[0mappend\u001b[0m\u001b[0;34m(\u001b[0m\u001b[0mdatas\u001b[0m\u001b[0;34m)\u001b[0m\u001b[0;34m\u001b[0m\u001b[0;34m\u001b[0m\u001b[0m\n\u001b[0;32m---> 68\u001b[0;31m   \u001b[0mresult\u001b[0m \u001b[0;34m=\u001b[0m \u001b[0mpd\u001b[0m\u001b[0;34m.\u001b[0m\u001b[0mconcat\u001b[0m\u001b[0;34m(\u001b[0m\u001b[0mframes\u001b[0m\u001b[0;34m,\u001b[0m \u001b[0mignore_index\u001b[0m \u001b[0;34m=\u001b[0m \u001b[0;32mTrue\u001b[0m\u001b[0;34m)\u001b[0m\u001b[0;34m\u001b[0m\u001b[0;34m\u001b[0m\u001b[0m\n\u001b[0m\u001b[1;32m     69\u001b[0m   \u001b[0;32mreturn\u001b[0m \u001b[0mresult\u001b[0m\u001b[0;34m\u001b[0m\u001b[0;34m\u001b[0m\u001b[0m\n\u001b[1;32m     70\u001b[0m \u001b[0;34m\u001b[0m\u001b[0m\n",
            "\u001b[0;32m/usr/local/lib/python3.7/dist-packages/pandas/core/reshape/concat.py\u001b[0m in \u001b[0;36mconcat\u001b[0;34m(objs, axis, join, ignore_index, keys, levels, names, verify_integrity, sort, copy)\u001b[0m\n\u001b[1;32m    282\u001b[0m         \u001b[0mverify_integrity\u001b[0m\u001b[0;34m=\u001b[0m\u001b[0mverify_integrity\u001b[0m\u001b[0;34m,\u001b[0m\u001b[0;34m\u001b[0m\u001b[0;34m\u001b[0m\u001b[0m\n\u001b[1;32m    283\u001b[0m         \u001b[0mcopy\u001b[0m\u001b[0;34m=\u001b[0m\u001b[0mcopy\u001b[0m\u001b[0;34m,\u001b[0m\u001b[0;34m\u001b[0m\u001b[0;34m\u001b[0m\u001b[0m\n\u001b[0;32m--> 284\u001b[0;31m         \u001b[0msort\u001b[0m\u001b[0;34m=\u001b[0m\u001b[0msort\u001b[0m\u001b[0;34m,\u001b[0m\u001b[0;34m\u001b[0m\u001b[0;34m\u001b[0m\u001b[0m\n\u001b[0m\u001b[1;32m    285\u001b[0m     )\n\u001b[1;32m    286\u001b[0m \u001b[0;34m\u001b[0m\u001b[0m\n",
            "\u001b[0;32m/usr/local/lib/python3.7/dist-packages/pandas/core/reshape/concat.py\u001b[0m in \u001b[0;36m__init__\u001b[0;34m(self, objs, axis, join, keys, levels, names, ignore_index, verify_integrity, copy, sort)\u001b[0m\n\u001b[1;32m    329\u001b[0m \u001b[0;34m\u001b[0m\u001b[0m\n\u001b[1;32m    330\u001b[0m         \u001b[0;32mif\u001b[0m \u001b[0mlen\u001b[0m\u001b[0;34m(\u001b[0m\u001b[0mobjs\u001b[0m\u001b[0;34m)\u001b[0m \u001b[0;34m==\u001b[0m \u001b[0;36m0\u001b[0m\u001b[0;34m:\u001b[0m\u001b[0;34m\u001b[0m\u001b[0;34m\u001b[0m\u001b[0m\n\u001b[0;32m--> 331\u001b[0;31m             \u001b[0;32mraise\u001b[0m \u001b[0mValueError\u001b[0m\u001b[0;34m(\u001b[0m\u001b[0;34m\"No objects to concatenate\"\u001b[0m\u001b[0;34m)\u001b[0m\u001b[0;34m\u001b[0m\u001b[0;34m\u001b[0m\u001b[0m\n\u001b[0m\u001b[1;32m    332\u001b[0m \u001b[0;34m\u001b[0m\u001b[0m\n\u001b[1;32m    333\u001b[0m         \u001b[0;32mif\u001b[0m \u001b[0mkeys\u001b[0m \u001b[0;32mis\u001b[0m \u001b[0;32mNone\u001b[0m\u001b[0;34m:\u001b[0m\u001b[0;34m\u001b[0m\u001b[0;34m\u001b[0m\u001b[0m\n",
            "\u001b[0;31mValueError\u001b[0m: No objects to concatenate"
          ]
        }
      ]
    },
    {
      "cell_type": "code",
      "metadata": {
        "id": "umB7SqK_5L7f"
      },
      "source": [
        "Case2. Data를 전부 끌고 온다."
      ],
      "execution_count": null,
      "outputs": []
    },
    {
      "cell_type": "code",
      "metadata": {
        "id": "Gc3ICqN5GG_I"
      },
      "source": [
        "original_data=jdata_load_all(jfoldername)"
      ],
      "execution_count": null,
      "outputs": []
    },
    {
      "cell_type": "markdown",
      "metadata": {
        "id": "TwgtdRo0du6S"
      },
      "source": [
        "## **Task3**, **Task4**"
      ]
    },
    {
      "cell_type": "markdown",
      "metadata": {
        "id": "rFcpstJPeCY4"
      },
      "source": [
        "Implement K-means clustering or any ML algorithms (25 pts)"
      ]
    },
    {
      "cell_type": "markdown",
      "metadata": {
        "id": "3wh3pKXekshN"
      },
      "source": [
        "### *1-1) Kmeans clustering for fixed length data*"
      ]
    },
    {
      "cell_type": "code",
      "metadata": {
        "id": "udhNKrn__-F1"
      },
      "source": [
        "from sklearn.metrics import accuracy_score, precision_score, recall_score, confusion_matrix, f1_score\n",
        "def get_clf_eval(y_test, pred=None):\n",
        "  confusion=confusion_matrix(y_test, pred)\n",
        "  accuracy=accuracy_score(y_test, pred)\n",
        "  precision=precision_score(y_test, pred)\n",
        "  recall=recall_score(y_test, pred)\n",
        "  f1=f1_score(y_test, pred)\n",
        "  print(\"오차 행렬\")\n",
        "  print(confusion)\n",
        "  print(\"정확도: {0:.4f}, 정밀도: {1:.4f}, 재현율: {2:.4f},\\\n",
        "  F1:{3:.4f}\".format(accuracy, precision, recall, f1))"
      ],
      "execution_count": null,
      "outputs": []
    },
    {
      "cell_type": "code",
      "metadata": {
        "id": "mDz-doJ5UhLG",
        "colab": {
          "base_uri": "https://localhost:8080/",
          "height": 382
        },
        "outputId": "59b2b9bb-d734-4fc3-a25d-30fa779b80f6"
      },
      "source": [
        "# K-means clustering (fixed length)\n",
        "\n",
        "from sklearn.cluster import KMeans\n",
        "from sklearn.decomposition import PCA\n",
        "import seaborn as sns\n",
        "import pandas as pd\n",
        "import matplotlib.pyplot as plt\n",
        "import numpy as np\n",
        "%matplotlib inline\n",
        "\n",
        "#데이터 로드\n",
        "data_f, data_f_x, data_f_y= data_load_fixed(filename)\n",
        "\n",
        "#kmeans fitting\n",
        "kmeans_f = KMeans(n_clusters=2)\n",
        "#f_kmeans=KMeans(n_clusters=2, init=\"k-means++\", max_iter=300, random_state=0)\n",
        "kmeans_f.fit(datas_f)\n",
        "\n",
        "#kmeans예측 결과를 데이터 프레임에 컬럼으로 넣어준다.\n",
        "k_data_f=data_f.copy()\n",
        "k_data_f[\"kmeans_label\"]=kmeans_f.labels_\n",
        "\n",
        "#kmeans 결과 확인\n",
        "kmeans_f_result=k_data_f.groupby([\"class\"])[\"kmeans_label\"].value_counts()\n",
        "print(kmeans_f_result)\n",
        "\n",
        "#PCA\n",
        "pca_f = PCA(n_components=2)\n",
        "pca_ft = pca_f.fit_transform(data_f_x)\n",
        "k_data_f[\"pca_x\"]=pca_ft[:,0]\n",
        "k_data_f[\"pca_y\"]=pca_ft[:,1]\n",
        "#result_f = pd.DataFrame(data = pca_f, columns = ['x', 'y'])\n",
        "\n",
        "#생각나면 수정 // 아니면 지우기!\n",
        "'''\n",
        "sns.scatterplot(\n",
        "    x = 'x', y = 'y',\n",
        "    hue = \"cluster\",\n",
        "    data = result_f,\n",
        "    palette = \"Set2\"\n",
        ")\n",
        "\n",
        "'''\n",
        "\n",
        "#Plotting\n",
        "target_list=np.unique(data_f[\"class\"])\n",
        "print(target_list)\n",
        "markers=['^', 's']\n",
        "for target in target_list:\n",
        "  target_cluster=k_data_f[k_data_f[\"kmeans_label\"]==target]\n",
        "  plt.scatter(x=target_cluster[\"pca_x\"], y=target_cluster[\"pca_y\"], edgecolor=\"k\", marker=markers[target])\n",
        "plt.show()\n",
        "#고정값 사이사이에 있는 600 등의 이상치 때문일 것으로 보인다.\n",
        "#왜 이런 결과가..=> 이 결과가 맞는가???=>생각하는 step들을 알아가자!!!\n"
      ],
      "execution_count": null,
      "outputs": [
        {
          "output_type": "stream",
          "name": "stdout",
          "text": [
            "class  kmeans_label\n",
            "0      0               3870\n",
            "       1                  4\n",
            "1      0               2517\n",
            "Name: kmeans_label, dtype: int64\n",
            "[0 1]\n"
          ]
        },
        {
          "output_type": "display_data",
          "data": {
            "image/png": "[encoded data removed]",
            "text/plain": [
              "<Figure size 432x288 with 1 Axes>"
            ]
          },
          "metadata": {
            "needs_background": "light"
          }
        }
      ]
    },
    {
      "cell_type": "markdown",
      "metadata": {
        "id": "ZUZk_K6dk72o"
      },
      "source": [
        "### *1-2) ML Algorithms for fixed length data*"
      ]
    },
    {
      "cell_type": "markdown",
      "metadata": {
        "id": "RBMRufNXDBac"
      },
      "source": [
        "#### (1) SVM Model"
      ]
    },
    {
      "cell_type": "code",
      "metadata": {
        "id": "ysTkk1vJWFB1",
        "colab": {
          "base_uri": "https://localhost:8080/"
        },
        "outputId": "310abdad-b490-4581-9c79-eb0939a8b9e9"
      },
      "source": [
        "from sklearn.svm import SVC\n",
        "from sklearn.model_selection import train_test_split\n",
        "from keras.models import Sequential\n",
        "from sklearn.metrics import accuracy_score\n",
        "\n",
        "#train, validation, test로 나누기\n",
        "f_x_train, f_x_test, f_y_train, f_y_test = train_test_split(data_f_x, data_f_y, test_size=0.1, random_state = 0)\n",
        "f_x_train, f_x_valid, f_y_train, f_y_valid=train_test_split(f_x_train, f_y_train, test_size=0.1, random_state=0)\n",
        "\n",
        "clf = Sequential()\n",
        "clf = SVC(gamma='auto')\n",
        "clf.fit(f_x_train, f_y_train)\n",
        "predict = clf.predict(f_x_test)\n",
        "get_clf_eval(f_y_test, predict)"
      ],
      "execution_count": null,
      "outputs": [
        {
          "output_type": "stream",
          "name": "stdout",
          "text": [
            "오차 행렬\n",
            "[[400   0]\n",
            " [ 56 184]]\n",
            "정확도: 0.9125, 정밀도: 1.0000, 재현율: 0.7667,  F1:0.8679\n"
          ]
        }
      ]
    },
    {
      "cell_type": "markdown",
      "metadata": {
        "id": "TA2uoS5tDEWr"
      },
      "source": [
        "#### (2) LGBM Model"
      ]
    },
    {
      "cell_type": "code",
      "metadata": {
        "id": "GEVfTVxkXlVr",
        "colab": {
          "base_uri": "https://localhost:8080/",
          "height": 104
        },
        "outputId": "44afa745-61cd-4356-81fe-6e6b5462c74f"
      },
      "source": [
        "#LGBM\n",
        "from lightgbm import LGBMClassifier\n",
        "\n",
        "lgbm_wrapper = LGBMClassifier(n_estimators=400)\n",
        "\n",
        "evals=[(f_x_test, f_y_test)]\n",
        "lgbm_wrapper.fit(f_x_train, f_y_train)\n",
        "#lgbm_wrapper.fit(X_train, y_train, early_stopping_rounds=100, eval_metric=\"logloss\", eval_set=evals, verbose=True)\n",
        "preds=lgbm_wrapper.predict(f_x_test)\n",
        "get_clf_eval(f_y_test, preds)\n",
        "#score = accuracy_score(f_y_test, preds)\n",
        "#print('lgbm prediction score : %s' %score)"
      ],
      "execution_count": null,
      "outputs": [
        {
          "output_type": "stream",
          "name": "stdout",
          "text": [
            "오차 행렬\n",
            "[[400   0]\n",
            " [  1 239]]\n",
            "정확도: 0.9984, 정밀도: 1.0000, 재현율: 0.9958,  F1:0.9979\n"
          ]
        },
        {
          "output_type": "execute_result",
          "data": {
            "application/vnd.google.colaboratory.intrinsic+json": {
              "type": "string"
            },
            "text/plain": [
              "\"score = accuracy_score(f_y_test, preds)\\nprint('lgbm prediction score : %s' %score)\""
            ]
          },
          "metadata": {},
          "execution_count": 44
        }
      ]
    },
    {
      "cell_type": "code",
      "metadata": {
        "id": "unq9dd5X7O0U",
        "colab": {
          "base_uri": "https://localhost:8080/"
        },
        "outputId": "e1c6e12c-2763-4489-a390-67e1c78b1193"
      },
      "source": [
        "#Random Forest\n",
        "from sklearn.ensemble import RandomForestClassifier\n",
        "from sklearn.metrics import accuracy_score\n",
        "import pandas as pd\n",
        "import warnings\n",
        "warnings.filterwarnings(\"ignore\")\n",
        "\n",
        "rf_clf=RandomForestClassifier(random_state=0)\n",
        "rf_clf.fit(f_x_train, f_y_train)\n",
        "pred=rf_clf.predict(f_x_test)\n",
        "#accuracy=accuracy_score(f_y_test, pred)\n",
        "#print(\"Random Forest score: {0:.4f}\".format(accuracy))\n",
        "get_clf_eval(f_y_test, pred)"
      ],
      "execution_count": null,
      "outputs": [
        {
          "output_type": "stream",
          "name": "stdout",
          "text": [
            "오차 행렬\n",
            "[[400   0]\n",
            " [  1 239]]\n",
            "정확도: 0.9984, 정밀도: 1.0000, 재현율: 0.9958,  F1:0.9979\n"
          ]
        }
      ]
    },
    {
      "cell_type": "markdown",
      "metadata": {
        "id": "D0sdSL8JDHrw"
      },
      "source": [
        "#### (3) Keras Model"
      ]
    },
    {
      "cell_type": "code",
      "metadata": {
        "id": "ROZmNqNGfNhX",
        "colab": {
          "base_uri": "https://localhost:8080/"
        },
        "outputId": "46b7c186-d9cf-4892-fea7-9b29be0b1dbd"
      },
      "source": [
        "from keras.models import Sequential\n",
        "from keras.layers import Dense\n",
        "\n",
        "dim = len(data_f_x.columns)\n",
        "model = Sequential()\n",
        "model.add(Dense(2*dim, input_dim=dim, activation='relu'))\n",
        "model.add(Dense(dim, activation='relu'))\n",
        "model.add(Dense(1, activation='sigmoid'))\n",
        "\n",
        "#binary_crossentropy\n",
        "model.compile(loss='binary_crossentropy', optimizer='adam', metrics='accuracy')\n",
        "history=model.fit(f_x_train, f_y_train, epochs=10, batch_size=10, validation_data=(f_x_valid, f_y_valid))\n",
        "\n"
      ],
      "execution_count": null,
      "outputs": [
        {
          "output_type": "stream",
          "name": "stdout",
          "text": [
            "Epoch 1/10\n",
            "518/518 [==============================] - 5s 5ms/step - loss: 1321.3914 - accuracy: 0.9675 - val_loss: 280.7547 - val_accuracy: 0.9913\n",
            "Epoch 2/10\n",
            "518/518 [==============================] - 2s 4ms/step - loss: 207.0832 - accuracy: 0.9867 - val_loss: 1137.4840 - val_accuracy: 0.9965\n",
            "Epoch 3/10\n",
            "518/518 [==============================] - 2s 5ms/step - loss: 978.9437 - accuracy: 0.9845 - val_loss: 1457.2708 - val_accuracy: 0.9931\n",
            "Epoch 4/10\n",
            "518/518 [==============================] - 2s 4ms/step - loss: 1118.5532 - accuracy: 0.9867 - val_loss: 0.2373 - val_accuracy: 0.9948\n",
            "Epoch 5/10\n",
            "518/518 [==============================] - 3s 5ms/step - loss: 2070.9705 - accuracy: 0.9867 - val_loss: 740.4728 - val_accuracy: 0.9913\n",
            "Epoch 6/10\n",
            "518/518 [==============================] - 2s 5ms/step - loss: 170.6039 - accuracy: 0.9911 - val_loss: 0.0844 - val_accuracy: 0.9983\n",
            "Epoch 7/10\n",
            "518/518 [==============================] - 2s 5ms/step - loss: 47.8186 - accuracy: 0.9961 - val_loss: 0.5079 - val_accuracy: 0.9948\n",
            "Epoch 8/10\n",
            "518/518 [==============================] - 2s 5ms/step - loss: 32.6538 - accuracy: 0.9950 - val_loss: 19179.7734 - val_accuracy: 0.9931\n",
            "Epoch 9/10\n",
            "518/518 [==============================] - 2s 4ms/step - loss: 4539.5566 - accuracy: 0.9871 - val_loss: 69.3782 - val_accuracy: 0.9931\n",
            "Epoch 10/10\n",
            "518/518 [==============================] - 2s 4ms/step - loss: 24.4481 - accuracy: 0.9944 - val_loss: 1.2460 - val_accuracy: 0.9983\n"
          ]
        }
      ]
    },
    {
      "cell_type": "code",
      "metadata": {
        "colab": {
          "base_uri": "https://localhost:8080/"
        },
        "id": "xaO1wtAkKlG4",
        "outputId": "6e0a737e-5a82-47f7-a959-6a665e5b695c"
      },
      "source": [
        "history_dict=history.history\n",
        "history_dict.keys()"
      ],
      "execution_count": null,
      "outputs": [
        {
          "output_type": "execute_result",
          "data": {
            "text/plain": [
              "dict_keys(['loss', 'accuracy', 'val_loss', 'val_accuracy'])"
            ]
          },
          "metadata": {},
          "execution_count": 51
        }
      ]
    },
    {
      "cell_type": "code",
      "metadata": {
        "colab": {
          "base_uri": "https://localhost:8080/",
          "height": 294
        },
        "id": "oMya9MgcJ4zu",
        "outputId": "6eacce9f-2e6a-4fd2-e8fb-74e0608c3899"
      },
      "source": [
        "import matplotlib.pyplot as plt\n",
        "\n",
        "acc=history.history[\"accuracy\"]\n",
        "val_acc=history.history[\"val_accuracy\"]\n",
        "loss=history.history[\"loss\"]\n",
        "val_loss=history.history[\"val_loss\"]\n",
        "\n",
        "epochs=range(1, len(acc)+1)\n",
        "plt.plot(epochs, loss, 'bo', label=\"Training loss\")\n",
        "plt.plot(epochs, val_loss, \"b\", label=\"Validation_loss\")\n",
        "plt.title(\"Training and validation loss\")\n",
        "plt.xlabel(\"Epochs\")\n",
        "plt.ylabel(\"Loss\")\n",
        "plt.legend()\n",
        "\n",
        "plt.show()\n"
      ],
      "execution_count": null,
      "outputs": [
        {
          "output_type": "display_data",
          "data": {
            "image/png": "[encoded data removed]",
            "text/plain": [
              "<Figure size 432x288 with 1 Axes>"
            ]
          },
          "metadata": {
            "needs_background": "light"
          }
        }
      ]
    },
    {
      "cell_type": "code",
      "metadata": {
        "colab": {
          "base_uri": "https://localhost:8080/",
          "height": 294
        },
        "id": "YTLTZqL5K4as",
        "outputId": "a4df2c11-e6a7-4368-ecf3-d8f50fbe1beb"
      },
      "source": [
        "plt.clf()\n",
        "\n",
        "plt.plot(epochs, acc, 'bo', label=\"Training acc\")\n",
        "plt.plot(epochs, val_acc, \"b\", label=\"Validation_acc\")\n",
        "plt.title(\"Training and validation accuracy\")\n",
        "plt.xlabel(\"epochs\")\n",
        "plt.ylabel(\"Accuracy\")\n",
        "plt.legend()\n",
        "plt.show()\n"
      ],
      "execution_count": null,
      "outputs": [
        {
          "output_type": "display_data",
          "data": {
            "image/png": "[encoded data removed]",
            "text/plain": [
              "<Figure size 432x288 with 1 Axes>"
            ]
          },
          "metadata": {
            "needs_background": "light"
          }
        }
      ]
    },
    {
      "cell_type": "code",
      "metadata": {
        "id": "-ksxWENVC9tt",
        "colab": {
          "base_uri": "https://localhost:8080/"
        },
        "outputId": "fc3dd797-50e2-4d60-fbcf-97f9a648aa81"
      },
      "source": [
        "#predict 한번 해보기 (group by)  //서칭하기~~\n",
        "\n",
        "loss, accuracy = model.evaluate(f_x_test, f_y_test, verbose=0)\n",
        "print(\"loss: \", loss, \"accuracy: \", accuracy)"
      ],
      "execution_count": null,
      "outputs": [
        {
          "output_type": "stream",
          "name": "stdout",
          "text": [
            "loss:  0.0 accuracy:  1.0\n"
          ]
        }
      ]
    },
    {
      "cell_type": "markdown",
      "metadata": {
        "id": "uNEhzVsMky90"
      },
      "source": [
        "### *2-1) Kmeans clustering for variable length data*"
      ]
    },
    {
      "cell_type": "code",
      "metadata": {
        "id": "DIK_ziIod5qe",
        "colab": {
          "base_uri": "https://localhost:8080/",
          "height": 504
        },
        "outputId": "52e77805-e3dd-4b22-8807-37da3a5710e8"
      },
      "source": [
        "# K-means clustering (variable length)\n",
        "\n",
        "# from sklearn.preprocessing import scale #전처리 package\n",
        "from sklearn.cluster import KMeans      # Kmeans package\n",
        "from sklearn.decomposition import PCA   # 차원 축소\n",
        "import numpy as np\n",
        "import seaborn as sns\n",
        "import pandas as pd\n",
        "\n",
        "#함수로 합치기~~~~\n",
        "\n",
        "# column 많은 상태에서 KMEANS -> PCA해서 그 상태에서 plotting\n",
        "#PCA=>Kmeans(해보렴~)\n",
        "\n",
        "kmeans=KMeans(n_clusters=2)             # n개로 cluster\n",
        "kmeans.fit(data_x)\n",
        "\n",
        "pca = PCA(n_components=2)               # 2차원으로 차원 축소\n",
        "pca_result = pca.fit_transform(data_x)\n",
        "result = pd.DataFrame(data = pca_result, columns = ['x', 'y'])\n",
        "\n",
        "final_result = result.copy()\n",
        "final_result[\"cluster\"] = kmeans.labels_\n",
        "final_result.head()\n",
        "\n",
        "sns.scatterplot(\n",
        "    x = 'x', y = 'y',\n",
        "    hue = \"cluster\",\n",
        "    data = final_result,\n",
        "    palette = \"Set2\"\n",
        ")"
      ],
      "execution_count": null,
      "outputs": [
        {
          "output_type": "error",
          "ename": "KeyboardInterrupt",
          "evalue": "ignored",
          "traceback": [
            "\u001b[0;31m---------------------------------------------------------------------------\u001b[0m",
            "\u001b[0;31mStopIteration\u001b[0m                             Traceback (most recent call last)",
            "\u001b[0;32m/usr/local/lib/python3.7/dist-packages/pandas/io/parsers.py\u001b[0m in \u001b[0;36mread\u001b[0;34m(self, nrows)\u001b[0m\n\u001b[1;32m   2156\u001b[0m         \u001b[0;32mtry\u001b[0m\u001b[0;34m:\u001b[0m\u001b[0;34m\u001b[0m\u001b[0;34m\u001b[0m\u001b[0m\n\u001b[0;32m-> 2157\u001b[0;31m             \u001b[0mdata\u001b[0m \u001b[0;34m=\u001b[0m \u001b[0mself\u001b[0m\u001b[0;34m.\u001b[0m\u001b[0m_reader\u001b[0m\u001b[0;34m.\u001b[0m\u001b[0mread\u001b[0m\u001b[0;34m(\u001b[0m\u001b[0mnrows\u001b[0m\u001b[0;34m)\u001b[0m\u001b[0;34m\u001b[0m\u001b[0;34m\u001b[0m\u001b[0m\n\u001b[0m\u001b[1;32m   2158\u001b[0m         \u001b[0;32mexcept\u001b[0m \u001b[0mStopIteration\u001b[0m\u001b[0;34m:\u001b[0m\u001b[0;34m\u001b[0m\u001b[0;34m\u001b[0m\u001b[0m\n",
            "\u001b[0;32mpandas/_libs/parsers.pyx\u001b[0m in \u001b[0;36mpandas._libs.parsers.TextReader.read\u001b[0;34m()\u001b[0m\n",
            "\u001b[0;32mpandas/_libs/parsers.pyx\u001b[0m in \u001b[0;36mpandas._libs.parsers.TextReader._read_low_memory\u001b[0;34m()\u001b[0m\n",
            "\u001b[0;31mStopIteration\u001b[0m: ",
            "\nDuring handling of the above exception, another exception occurred:\n",
            "\u001b[0;31mKeyboardInterrupt\u001b[0m                         Traceback (most recent call last)",
            "\u001b[0;32m<ipython-input-61-dac716a5731e>\u001b[0m in \u001b[0;36m<module>\u001b[0;34m()\u001b[0m\n\u001b[1;32m      9\u001b[0m \u001b[0;34m\u001b[0m\u001b[0m\n\u001b[1;32m     10\u001b[0m \u001b[0;31m#함수로 합치기~~~~\u001b[0m\u001b[0;34m\u001b[0m\u001b[0;34m\u001b[0m\u001b[0;34m\u001b[0m\u001b[0m\n\u001b[0;32m---> 11\u001b[0;31m \u001b[0mdata\u001b[0m \u001b[0;34m=\u001b[0m \u001b[0mdata_load_all\u001b[0m\u001b[0;34m(\u001b[0m\u001b[0mjfoldername\u001b[0m\u001b[0;34m)\u001b[0m\u001b[0;34m\u001b[0m\u001b[0;34m\u001b[0m\u001b[0m\n\u001b[0m\u001b[1;32m     12\u001b[0m \u001b[0;31m#data=data_preprocessing()\u001b[0m\u001b[0;34m\u001b[0m\u001b[0;34m\u001b[0m\u001b[0;34m\u001b[0m\u001b[0m\n\u001b[1;32m     13\u001b[0m \u001b[0;31m# data = jdata\u001b[0m\u001b[0;34m\u001b[0m\u001b[0;34m\u001b[0m\u001b[0;34m\u001b[0m\u001b[0m\n",
            "\u001b[0;32m<ipython-input-10-a35d335efd90>\u001b[0m in \u001b[0;36mdata_load_all\u001b[0;34m(foldername)\u001b[0m\n\u001b[1;32m     42\u001b[0m   \u001b[0;32mfor\u001b[0m \u001b[0mi\u001b[0m \u001b[0;32min\u001b[0m \u001b[0;34m[\u001b[0m\u001b[0;36m0\u001b[0m\u001b[0;34m,\u001b[0m\u001b[0;36m1\u001b[0m\u001b[0;34m]\u001b[0m \u001b[0;34m:\u001b[0m\u001b[0;34m\u001b[0m\u001b[0;34m\u001b[0m\u001b[0m\n\u001b[1;32m     43\u001b[0m     \u001b[0;32mfor\u001b[0m \u001b[0mfilename\u001b[0m \u001b[0;32min\u001b[0m \u001b[0mfilenames\u001b[0m\u001b[0;34m[\u001b[0m\u001b[0mi\u001b[0m\u001b[0;34m]\u001b[0m \u001b[0;34m:\u001b[0m\u001b[0;34m\u001b[0m\u001b[0;34m\u001b[0m\u001b[0m\n\u001b[0;32m---> 44\u001b[0;31m       \u001b[0mdata\u001b[0m \u001b[0;34m=\u001b[0m \u001b[0mpd\u001b[0m\u001b[0;34m.\u001b[0m\u001b[0mread_csv\u001b[0m\u001b[0;34m(\u001b[0m\u001b[0mfilename\u001b[0m\u001b[0;34m)\u001b[0m\u001b[0;34m\u001b[0m\u001b[0;34m\u001b[0m\u001b[0m\n\u001b[0m\u001b[1;32m     45\u001b[0m       \u001b[0mdatas\u001b[0m \u001b[0;34m=\u001b[0m \u001b[0mpd\u001b[0m\u001b[0;34m.\u001b[0m\u001b[0mDataFrame\u001b[0m\u001b[0;34m(\u001b[0m\u001b[0mdata\u001b[0m\u001b[0;34m.\u001b[0m\u001b[0miloc\u001b[0m\u001b[0;34m[\u001b[0m\u001b[0;34m:\u001b[0m\u001b[0;34m,\u001b[0m \u001b[0;36m0\u001b[0m\u001b[0;34m:\u001b[0m\u001b[0;34m]\u001b[0m\u001b[0;34m)\u001b[0m\u001b[0;34m\u001b[0m\u001b[0;34m\u001b[0m\u001b[0m\n\u001b[1;32m     46\u001b[0m       \u001b[0mdatas\u001b[0m\u001b[0;34m.\u001b[0m\u001b[0mcolumns\u001b[0m \u001b[0;34m=\u001b[0m \u001b[0mlist\u001b[0m\u001b[0;34m(\u001b[0m\u001b[0mdata\u001b[0m\u001b[0;34m.\u001b[0m\u001b[0miloc\u001b[0m\u001b[0;34m[\u001b[0m\u001b[0;34m:\u001b[0m\u001b[0;34m,\u001b[0m \u001b[0;36m0\u001b[0m\u001b[0;34m:\u001b[0m\u001b[0;34m]\u001b[0m\u001b[0;34m.\u001b[0m\u001b[0mcolumns\u001b[0m\u001b[0;34m)\u001b[0m\u001b[0;34m\u001b[0m\u001b[0;34m\u001b[0m\u001b[0m\n",
            "\u001b[0;32m/usr/local/lib/python3.7/dist-packages/pandas/io/parsers.py\u001b[0m in \u001b[0;36mread_csv\u001b[0;34m(filepath_or_buffer, sep, delimiter, header, names, index_col, usecols, squeeze, prefix, mangle_dupe_cols, dtype, engine, converters, true_values, false_values, skipinitialspace, skiprows, skipfooter, nrows, na_values, keep_default_na, na_filter, verbose, skip_blank_lines, parse_dates, infer_datetime_format, keep_date_col, date_parser, dayfirst, cache_dates, iterator, chunksize, compression, thousands, decimal, lineterminator, quotechar, quoting, doublequote, escapechar, comment, encoding, dialect, error_bad_lines, warn_bad_lines, delim_whitespace, low_memory, memory_map, float_precision)\u001b[0m\n\u001b[1;32m    686\u001b[0m     )\n\u001b[1;32m    687\u001b[0m \u001b[0;34m\u001b[0m\u001b[0m\n\u001b[0;32m--> 688\u001b[0;31m     \u001b[0;32mreturn\u001b[0m \u001b[0m_read\u001b[0m\u001b[0;34m(\u001b[0m\u001b[0mfilepath_or_buffer\u001b[0m\u001b[0;34m,\u001b[0m \u001b[0mkwds\u001b[0m\u001b[0;34m)\u001b[0m\u001b[0;34m\u001b[0m\u001b[0;34m\u001b[0m\u001b[0m\n\u001b[0m\u001b[1;32m    689\u001b[0m \u001b[0;34m\u001b[0m\u001b[0m\n\u001b[1;32m    690\u001b[0m \u001b[0;34m\u001b[0m\u001b[0m\n",
            "\u001b[0;32m/usr/local/lib/python3.7/dist-packages/pandas/io/parsers.py\u001b[0m in \u001b[0;36m_read\u001b[0;34m(filepath_or_buffer, kwds)\u001b[0m\n\u001b[1;32m    458\u001b[0m \u001b[0;34m\u001b[0m\u001b[0m\n\u001b[1;32m    459\u001b[0m     \u001b[0;32mtry\u001b[0m\u001b[0;34m:\u001b[0m\u001b[0;34m\u001b[0m\u001b[0;34m\u001b[0m\u001b[0m\n\u001b[0;32m--> 460\u001b[0;31m         \u001b[0mdata\u001b[0m \u001b[0;34m=\u001b[0m \u001b[0mparser\u001b[0m\u001b[0;34m.\u001b[0m\u001b[0mread\u001b[0m\u001b[0;34m(\u001b[0m\u001b[0mnrows\u001b[0m\u001b[0;34m)\u001b[0m\u001b[0;34m\u001b[0m\u001b[0;34m\u001b[0m\u001b[0m\n\u001b[0m\u001b[1;32m    461\u001b[0m     \u001b[0;32mfinally\u001b[0m\u001b[0;34m:\u001b[0m\u001b[0;34m\u001b[0m\u001b[0;34m\u001b[0m\u001b[0m\n\u001b[1;32m    462\u001b[0m         \u001b[0mparser\u001b[0m\u001b[0;34m.\u001b[0m\u001b[0mclose\u001b[0m\u001b[0;34m(\u001b[0m\u001b[0;34m)\u001b[0m\u001b[0;34m\u001b[0m\u001b[0;34m\u001b[0m\u001b[0m\n",
            "\u001b[0;32m/usr/local/lib/python3.7/dist-packages/pandas/io/parsers.py\u001b[0m in \u001b[0;36mread\u001b[0;34m(self, nrows)\u001b[0m\n\u001b[1;32m   1196\u001b[0m     \u001b[0;32mdef\u001b[0m \u001b[0mread\u001b[0m\u001b[0;34m(\u001b[0m\u001b[0mself\u001b[0m\u001b[0;34m,\u001b[0m \u001b[0mnrows\u001b[0m\u001b[0;34m=\u001b[0m\u001b[0;32mNone\u001b[0m\u001b[0;34m)\u001b[0m\u001b[0;34m:\u001b[0m\u001b[0;34m\u001b[0m\u001b[0;34m\u001b[0m\u001b[0m\n\u001b[1;32m   1197\u001b[0m         \u001b[0mnrows\u001b[0m \u001b[0;34m=\u001b[0m \u001b[0m_validate_integer\u001b[0m\u001b[0;34m(\u001b[0m\u001b[0;34m\"nrows\"\u001b[0m\u001b[0;34m,\u001b[0m \u001b[0mnrows\u001b[0m\u001b[0;34m)\u001b[0m\u001b[0;34m\u001b[0m\u001b[0;34m\u001b[0m\u001b[0m\n\u001b[0;32m-> 1198\u001b[0;31m         \u001b[0mret\u001b[0m \u001b[0;34m=\u001b[0m \u001b[0mself\u001b[0m\u001b[0;34m.\u001b[0m\u001b[0m_engine\u001b[0m\u001b[0;34m.\u001b[0m\u001b[0mread\u001b[0m\u001b[0;34m(\u001b[0m\u001b[0mnrows\u001b[0m\u001b[0;34m)\u001b[0m\u001b[0;34m\u001b[0m\u001b[0;34m\u001b[0m\u001b[0m\n\u001b[0m\u001b[1;32m   1199\u001b[0m \u001b[0;34m\u001b[0m\u001b[0m\n\u001b[1;32m   1200\u001b[0m         \u001b[0;31m# May alter columns / col_dict\u001b[0m\u001b[0;34m\u001b[0m\u001b[0;34m\u001b[0m\u001b[0;34m\u001b[0m\u001b[0m\n",
            "\u001b[0;32m/usr/local/lib/python3.7/dist-packages/pandas/io/parsers.py\u001b[0m in \u001b[0;36mread\u001b[0;34m(self, nrows)\u001b[0m\n\u001b[1;32m   2172\u001b[0m \u001b[0;34m\u001b[0m\u001b[0m\n\u001b[1;32m   2173\u001b[0m                 col_dict = dict(\n\u001b[0;32m-> 2174\u001b[0;31m                     \u001b[0mfilter\u001b[0m\u001b[0;34m(\u001b[0m\u001b[0;32mlambda\u001b[0m \u001b[0mitem\u001b[0m\u001b[0;34m:\u001b[0m \u001b[0mitem\u001b[0m\u001b[0;34m[\u001b[0m\u001b[0;36m0\u001b[0m\u001b[0;34m]\u001b[0m \u001b[0;32min\u001b[0m \u001b[0mcolumns\u001b[0m\u001b[0;34m,\u001b[0m \u001b[0mcol_dict\u001b[0m\u001b[0;34m.\u001b[0m\u001b[0mitems\u001b[0m\u001b[0;34m(\u001b[0m\u001b[0;34m)\u001b[0m\u001b[0;34m)\u001b[0m\u001b[0;34m\u001b[0m\u001b[0;34m\u001b[0m\u001b[0m\n\u001b[0m\u001b[1;32m   2175\u001b[0m                 )\n\u001b[1;32m   2176\u001b[0m \u001b[0;34m\u001b[0m\u001b[0m\n",
            "\u001b[0;32m/usr/local/lib/python3.7/dist-packages/pandas/io/parsers.py\u001b[0m in \u001b[0;36m<lambda>\u001b[0;34m(item)\u001b[0m\n\u001b[1;32m   2172\u001b[0m \u001b[0;34m\u001b[0m\u001b[0m\n\u001b[1;32m   2173\u001b[0m                 col_dict = dict(\n\u001b[0;32m-> 2174\u001b[0;31m                     \u001b[0mfilter\u001b[0m\u001b[0;34m(\u001b[0m\u001b[0;32mlambda\u001b[0m \u001b[0mitem\u001b[0m\u001b[0;34m:\u001b[0m \u001b[0mitem\u001b[0m\u001b[0;34m[\u001b[0m\u001b[0;36m0\u001b[0m\u001b[0;34m]\u001b[0m \u001b[0;32min\u001b[0m \u001b[0mcolumns\u001b[0m\u001b[0;34m,\u001b[0m \u001b[0mcol_dict\u001b[0m\u001b[0;34m.\u001b[0m\u001b[0mitems\u001b[0m\u001b[0;34m(\u001b[0m\u001b[0;34m)\u001b[0m\u001b[0;34m)\u001b[0m\u001b[0;34m\u001b[0m\u001b[0;34m\u001b[0m\u001b[0m\n\u001b[0m\u001b[1;32m   2175\u001b[0m                 )\n\u001b[1;32m   2176\u001b[0m \u001b[0;34m\u001b[0m\u001b[0m\n",
            "\u001b[0;31mKeyboardInterrupt\u001b[0m: "
          ]
        }
      ]
    },
    {
      "cell_type": "code",
      "metadata": {
        "id": "JYWDs1GfsNSX",
        "colab": {
          "base_uri": "https://localhost:8080/",
          "height": 170
        },
        "outputId": "af97eeb4-6866-447f-ac7d-e9bb96a80adf"
      },
      "source": [
        "data[\"kmeans_label\"]=final_result[\"cluster\"]"
      ],
      "execution_count": null,
      "outputs": [
        {
          "output_type": "error",
          "ename": "NameError",
          "evalue": "ignored",
          "traceback": [
            "\u001b[0;31m---------------------------------------------------------------------------\u001b[0m",
            "\u001b[0;31mNameError\u001b[0m                                 Traceback (most recent call last)",
            "\u001b[0;32m<ipython-input-2-3ba55b0dc0c6>\u001b[0m in \u001b[0;36m<module>\u001b[0;34m()\u001b[0m\n\u001b[0;32m----> 1\u001b[0;31m \u001b[0mdata\u001b[0m\u001b[0;34m[\u001b[0m\u001b[0;34m\"kmeans_label\"\u001b[0m\u001b[0;34m]\u001b[0m\u001b[0;34m=\u001b[0m\u001b[0mfinal_result\u001b[0m\u001b[0;34m[\u001b[0m\u001b[0;34m\"cluster\"\u001b[0m\u001b[0;34m]\u001b[0m\u001b[0;34m\u001b[0m\u001b[0;34m\u001b[0m\u001b[0m\n\u001b[0m",
            "\u001b[0;31mNameError\u001b[0m: name 'final_result' is not defined"
          ]
        }
      ]
    },
    {
      "cell_type": "code",
      "metadata": {
        "id": "sIn1JF3Zr_Vg",
        "colab": {
          "base_uri": "https://localhost:8080/"
        },
        "outputId": "185708d5-b107-4633-9d23-a9beff1550e3"
      },
      "source": [
        "v_kmeans_result = data.groupby([\"class\", \"kmeans_label\"])[\"Length\"].count()\n",
        "print(v_kmeans_result)"
      ],
      "execution_count": null,
      "outputs": [
        {
          "output_type": "stream",
          "name": "stdout",
          "text": [
            "class  kmeans_label\n",
            "0      0               13822\n",
            "       1                9009\n",
            "1      0                3568\n",
            "Name: Length, dtype: int64\n"
          ]
        }
      ]
    },
    {
      "cell_type": "code",
      "metadata": {
        "id": "U7_1EBmXrDvG",
        "colab": {
          "base_uri": "https://localhost:8080/",
          "height": 297
        },
        "outputId": "c821a2df-fd62-45e4-ec26-cfef0b5298eb"
      },
      "source": [
        "#별로인 모습 보여주기\n",
        "data = data.fillna(-1)\n",
        "pca2 = PCA(n_components = 2)\n",
        "pca2_result = pca.fit_transform(data.values)\n",
        "result2 = pd.DataFrame(data = pca_result, columns = ['x', 'y'])\n",
        "final_result2 = result2.copy()\n",
        "final_result2[\"class\"] = data[\"class\"]\n",
        "sns.scatterplot(\n",
        "    x = 'x', y='y',\n",
        "    hue = \"class\",\n",
        "    data = final_result2,\n",
        "    palette=\"Set2\"\n",
        ")\n"
      ],
      "execution_count": null,
      "outputs": [
        {
          "output_type": "execute_result",
          "data": {
            "text/plain": [
              "<matplotlib.axes._subplots.AxesSubplot at 0x7f7a3b7fb290>"
            ]
          },
          "metadata": {},
          "execution_count": 26
        },
        {
          "output_type": "display_data",
          "data": {
            "image/png": "[encoded data removed]",
            "text/plain": [
              "<Figure size 432x288 with 1 Axes>"
            ]
          },
          "metadata": {
            "needs_background": "light"
          }
        }
      ]
    },
    {
      "cell_type": "markdown",
      "metadata": {
        "id": "a8izobVnlGXw"
      },
      "source": [
        "### *2-2) ML Algorithms for variable length data*"
      ]
    },
    {
      "cell_type": "markdown",
      "metadata": {
        "id": "589yAZ91eUIA"
      },
      "source": [
        "** tsne를 한 후에 ML model 적용해보기"
      ]
    },
    {
      "cell_type": "markdown",
      "metadata": {
        "id": "Zm7EkF57CSIq"
      },
      "source": [
        "#### (1) SVM Model"
      ]
    },
    {
      "cell_type": "code",
      "metadata": {
        "id": "L4FBBT0OWkhU"
      },
      "source": [
        "\n",
        "#수정 !!! 1.0 이상해!!!!\n",
        "from sklearn.svm import SVC\n",
        "from sklearn.model_selection import train_test_split\n",
        "from keras.models import Sequential\n",
        "from sklearn.metrics import accuracy_score\n",
        "\n",
        "x_train, x_test, y_train, y_test = train_test_split(data_x, data_y, test_size=0.4, random_state = 0)\n",
        "\n",
        "clf = Sequential()\n",
        "clf = SVC(gamma='auto')\n",
        "clf.fit(x_train, y_train)\n",
        "predict = clf.predict(x_test)\n",
        "#score = accuracy_score(y_test, predict)\n",
        "#print(score)   # 왜 1.0이 나오지...?\n",
        "# => TSNE 적용 후 해보기\n",
        "predict"
      ],
      "execution_count": null,
      "outputs": []
    },
    {
      "cell_type": "code",
      "metadata": {
        "id": "vnMjeWcvjG7F"
      },
      "source": [
        "print(predict)\n",
        "print(y_test)"
      ],
      "execution_count": null,
      "outputs": []
    },
    {
      "cell_type": "code",
      "metadata": {
        "id": "TvbEr5Q0VyHL"
      },
      "source": [
        "#TSNE 수정 \n",
        "from sklearn.manifold import TSNE\n",
        "\n",
        "model = TSNE(n_components=2)\n",
        "tsne_data = model.fit_transform(data_x)"
      ],
      "execution_count": null,
      "outputs": []
    },
    {
      "cell_type": "markdown",
      "metadata": {
        "id": "qsaACGlery3H"
      },
      "source": [
        "Visualize clustering or hidden representation of ML algorithm results (20 pts)"
      ]
    },
    {
      "cell_type": "code",
      "metadata": {
        "id": "76DKFLNLr9GA"
      },
      "source": [
        "#Random Forest\n",
        "from sklearn.ensemble import RandomForestClassifier\n",
        "from sklearn.metrics import accuracy_score\n",
        "import pandas as pd\n",
        "warnings.filterwarnings(\"ignore\")\n",
        "\n",
        "rf_clf=RandomForestClassifier(random_state=0)\n",
        "rf_clf.fit(x_train, y_train)\n",
        "pred=rf_clf.predict(x_test)\n",
        "accuracy=accuracy_score(y_test, pred)\n",
        "print(\"Random Forest score: {0:.4f}\".format(accuracy))\n"
      ],
      "execution_count": null,
      "outputs": []
    }
  ]
}